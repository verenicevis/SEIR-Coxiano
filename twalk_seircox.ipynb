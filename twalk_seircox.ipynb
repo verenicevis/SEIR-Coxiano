{
 "cells": [
  {
   "cell_type": "code",
   "execution_count": 14,
   "id": "698da541-16df-4fea-91a6-1b9693757fb8",
   "metadata": {},
   "outputs": [],
   "source": [
    "import numpy as np\n",
    "import matplotlib.pyplot as plt\n",
    "import seaborn as sns\n",
    "from scipy.integrate import odeint\n",
    "import random\n",
    "import scipy\n",
    "import time\n",
    "import pandas as pd\n",
    "from odeintw import odeintw\n",
    "import pytwalk as twalk\n",
    "sns.set_style('darkgrid')"
   ]
  },
  {
   "cell_type": "code",
   "execution_count": 23,
   "id": "abd8c197-ca0a-41e6-bdfc-ef35218d6771",
   "metadata": {},
   "outputs": [
    {
     "data": {
      "image/png": "[encoded data removed]",
      "text/plain": [
       "<Figure size 432x288 with 1 Axes>"
      ]
     },
     "metadata": {},
     "output_type": "display_data"
    }
   ],
   "source": [
    "txt = np.loadtxt('datos_inci.txt', skiprows = 0) \n",
    "txt_round = np.round(txt)\n",
    "#Agrego Ruido (con la misma semilla) para obtener mis datos\n",
    "np.random.seed(123)\n",
    "data = scipy.stats.poisson.rvs(txt_round)\n",
    "#Grafico\n",
    "plt.plot(data,'o')\n",
    "plt.plot(txt_round)\n",
    "plt.show()"
   ]
  },
  {
   "cell_type": "code",
   "execution_count": 24,
   "id": "0936cb13-03c6-4ac1-bb28-b31c0447666d",
   "metadata": {},
   "outputs": [
    {
     "name": "stdin",
     "output_type": "stream",
     "text": [
      "¿Cuántos compartimentos de E quieres, V? 1\n"
     ]
    }
   ],
   "source": [
    "n = int(input('¿Cuántos compartimentos de E quieres, V?'))"
   ]
  },
  {
   "cell_type": "markdown",
   "id": "2778de69-082c-431a-97ef-ebf9d2fdefa8",
   "metadata": {},
   "source": [
    "### Modelo\n",
    "\n",
    "1. Cuando n = 1 -> SEYIR\n",
    "2. Cuando n > 1 -> SEnIR_Cox\n",
    "\n",
    "Argumentos:\n",
    "\n",
    "1. X: Vector de Estados. Dimensión =  n+4\n",
    "2. t: Vector de Tiempo (medido en días). 90 días\n",
    "3. theta: Vector de parámetros. Ejemplo, cuando n=3 entonces\n",
    "$$\n",
    "\\theta = (\\beta, \\gamma, \\lambda, p_{1},p_{2})\n",
    "$$"
   ]
  },
  {
   "cell_type": "code",
   "execution_count": 25,
   "id": "08241902-0c3a-4a92-a5dd-1aed86b91474",
   "metadata": {},
   "outputs": [],
   "source": [
    "def SEYIR(X,t,theta):  \n",
    "    S,E,Y,I,R = X\n",
    "    dS = -theta[0]*I*S/N\n",
    "    dE = (theta[0]*I*S)/N-(theta[2]*E)\n",
    "    dY = theta[2]*E\n",
    "    dI = theta[2]*E-theta[1]*I\n",
    "    dR = theta[1]*I\n",
    "    return [dS,dE,dY,dI, dR]\n",
    "\n",
    "def SEnIR_Cox(X,t,theta):\n",
    "    N = 1000\n",
    "    diag0 = np.append(theta[0], theta[2]*(1-np.append(theta[3],1)))\n",
    "    diag1 = -theta[2]\n",
    "    tt = np.diag(diag0)+np.diag(diag1,1)\n",
    "    tt = np.delete(tt, n, axis=0)\n",
    "    a = X[0]*X[n+1]/N \n",
    "    XX = np.append(a,X[1:n+1])\n",
    "    dS = -theta[0]*a\n",
    "    dE = tt@XX\n",
    "    dY = np.sum(theta[2]*np.append(theta[3],1)*X[1:n+1])\n",
    "    dI = np.sum(theta[2]*np.append(theta[3],1)*X[1:n+1])-theta[1]*X[n+1]\n",
    "    dR = theta[1]*X[n+1]\n",
    "    sols = np.append(dS,dE)\n",
    "    sols = np.array(np.append(sols,[dI,dY,dR]))\n",
    "    return(sols)"
   ]
  },
  {
   "cell_type": "markdown",
   "id": "e2888781-3b05-4382-8671-c145d8881444",
   "metadata": {},
   "source": [
    "### Supuestos para la inferencia\n",
    "\n",
    "0. Datos Generales"
   ]
  },
  {
   "cell_type": "code",
   "execution_count": 33,
   "id": "f92f4a24-67ec-4a0d-beae-f60fd05ab053",
   "metadata": {},
   "outputs": [],
   "source": [
    "## No. de pobladores ( Se supone una población cerrada durante)\n",
    "N = 1000\n",
    "\n",
    "## Tiempo en el que se reune la data\n",
    "dias = 90\n",
    "t = np.linspace(0,dias,dias+1)\n",
    "\n",
    "### Condiciones Iniciales\n",
    "X0_1 = [(N -1), 1, 1, 0, 0]  ### si n = 1\n",
    "S0 = N-1.\n",
    "E0 = [0] * n \n",
    "E0[0] = 1.\n",
    "I0 = 0.\n",
    "Y0 = 1.\n",
    "R0 = 0.\n",
    "X0_2 = [S0]+E0+[I0,Y0,R0]  ### si n > 1"
   ]
  },
  {
   "cell_type": "markdown",
   "id": "4279d449-5408-414b-8d44-1ab05e8e969b",
   "metadata": {},
   "source": [
    "1. D. Aprioris: Se suponen V.A. independientes con distribuciones Gamma(1,0.6) los siguientes parámetros: $\\beta, \\gamma, \\lambda$ y Beta(20,1) los parametros $p_{1},p_{2},\\dots$."
   ]
  },
  {
   "cell_type": "code",
   "execution_count": 27,
   "id": "6843754a-29bf-4742-aec3-4244db69ca1a",
   "metadata": {},
   "outputs": [],
   "source": [
    "## Hiperparámetros:\n",
    "gamma_hiper = [1,0.6]\n",
    "beta_hiper = [10,1]"
   ]
  },
  {
   "cell_type": "code",
   "execution_count": 32,
   "id": "b4ec2a66-a6bf-477c-9d79-1e1986a09759",
   "metadata": {},
   "outputs": [],
   "source": [
    "def logprior(theta):\n",
    "    db = scipy.stats.gamma.logpdf(theta[0],gamma_hiper[0],0,gamma_hiper[1])\n",
    "    dg = scipy.stats.gamma.logpdf(theta[1],gamma_hiper[0],0,gamma_hiper[1])\n",
    "    dl = scipy.stats.gamma.logpdf(theta[2],gamma_hiper[0],0,gamma_hiper[1])\n",
    "    if n==1:\n",
    "        return(db+dg+dl)\n",
    "    else:\n",
    "        dp == 0\n",
    "        for i in range(0,n):\n",
    "            dp += scipy.stats.beta.logpdf(theta[i+3],beta_hiper[0],beta_hiper[1])\n",
    "        return(db+dg+dl+dp)"
   ]
  },
  {
   "cell_type": "markdown",
   "id": "889d8cc0-c176-4a69-b383-e832a515a667",
   "metadata": {},
   "source": [
    "2. Verosimilitud: Se supone que los datos tienen una d poisson con media la incidencia obtenida del modelo"
   ]
  },
  {
   "cell_type": "code",
   "execution_count": 34,
   "id": "eae3ed90-5623-4d38-915f-1681a7d2f8c2",
   "metadata": {},
   "outputs": [],
   "source": [
    "def logver(theta):\n",
    "    if n==1:\n",
    "        # Condición inicial\n",
    "        X0 = X0_1\n",
    "        # se resuelve el modelo\n",
    "        Xt = odeint(SEYIR,X0,t, args=(theta,))\n",
    "        # Incidencia\n",
    "        Inct = np.diff(Xt[:,2])\n",
    "\n",
    "    else:\n",
    "        # Condición Inicial\n",
    "        X0 = X0_2\n",
    "        # Se construye el vector de parámetros en el formato que lo necesita la función\n",
    "        eles = np.repeat(params[2],n)\n",
    "        pes = np.array([params[3:]])\n",
    "        theta = np.array([params[0],params[1],eles,pes])\n",
    "        # Se resuelve el modelo\n",
    "        Xt = odeintw(SEnIR_Cox,X0,t, args=(theta,))\n",
    "        # Incidencia\n",
    "        Inct = np.diff(Xt[:,n+2])\n",
    "        \n",
    "    # Logverosimilitud\n",
    "    ver = 0\n",
    "    for i in range(0,len(data)):\n",
    "        ver += scipy.stats.poisson.logpmf(data[i],mu=Inct[i])\n",
    "    return(ver)"
   ]
  },
  {
   "cell_type": "markdown",
   "id": "e8017694-b67b-4511-94e3-b990bde93aa9",
   "metadata": {},
   "source": [
    "3. Función de energía, la cual se define como $$ U(\\theta|y) = -Log(f(theta|y))$$\n",
    "donde $f(theta|y)$ es la distrubución posterior y $y$ el vector de datos."
   ]
  },
  {
   "cell_type": "code",
   "execution_count": 35,
   "id": "4696bd8f-ce6f-4a28-a7c7-5ab8d83f5a4e",
   "metadata": {},
   "outputs": [],
   "source": [
    "def U(theta):\n",
    "    return(-logprior(theta)-logver(theta))"
   ]
  },
  {
   "cell_type": "markdown",
   "id": "e4b1b967-ea8d-4c10-a8dc-731392ae6da8",
   "metadata": {},
   "source": [
    "### Requisitos para el Algoritmo T Walk"
   ]
  },
  {
   "cell_type": "code",
   "execution_count": 39,
   "id": "6f03415c-db4c-4202-b68e-5cd435f3fe47",
   "metadata": {},
   "outputs": [],
   "source": [
    "### Función que retorna True si las cadenas se mueven dentro del soporte de cada parámetro, False si no\n",
    "def Supp(theta):\n",
    "    if n == 1:\n",
    "        if (theta[0]<0 and theta[1]<0 and theta[2]<0):\n",
    "            return False\n",
    "        else:\n",
    "            return True\n",
    "    else:\n",
    "        if (theta[0]<0 and theta[1]<0 and theta[2]<0 and np.any(theta[3:]<0) and np.any(theta[3:]>1 )):\n",
    "            return False\n",
    "        else:\n",
    "            return True"
   ]
  },
  {
   "cell_type": "code",
   "execution_count": 40,
   "id": "97c010b7-ac89-4592-982f-0c5f5c084914",
   "metadata": {},
   "outputs": [],
   "source": [
    "### Función de valores iniciales de cada cadena\n",
    "def p0():\n",
    "    b = scipy.stats.gamma.rvs(a=b_hiper[0], loc = 0,scale = b_hiper[1],size = 1)\n",
    "    g = scipy.stats.gamma.rvs(a=g_hiper[0], loc = 0,scale = g_hiper[1],size = 1)\n",
    "    l = scipy.stats.gamma.rvs(a=l_hiper[0], loc = 0,scale = l_hiper[1],size = 1)\n",
    "    vec = [b[0],g[0],l[0]]\n",
    "    if n > 1:\n",
    "        for i in range(0,n):\n",
    "            temp = scipy.stats.beta.rvs(p_hiper[0],p_hiper[1])\n",
    "            vec = vec + temp\n",
    "    return(np.array(vec))"
   ]
  },
  {
   "cell_type": "markdown",
   "id": "d7bccace-4154-4340-81fb-2d5bf92e57ee",
   "metadata": {},
   "source": [
    "### Corre T Walk"
   ]
  },
  {
   "cell_type": "code",
   "execution_count": 43,
   "id": "623340b8-059e-4096-8b36-feb6b60aedcf",
   "metadata": {},
   "outputs": [],
   "source": [
    "inicio = time.time()    ## para contar cuanto tiempo tarda\n",
    "T = 10000               ## no. de iteraciones\n",
    "x0 = p0()               ## vals iniciales\n",
    "xp0 = p0()\n",
    "np.random.seed(123)     ## semilla\n",
    "m = n+4                 ## no. de parametros a estimar\n",
    "tchain = twalk.pytwalk( n=m, U=U, Supp=Supp )  \n",
    "tchain.Run( T=T , x0= x0 , xp0= xp0)\n",
    "final = time.time() - inicio"
   ]
  },
  {
   "cell_type": "code",
   "execution_count": 20,
   "id": "27db2375-a7c8-404d-9db7-818d5d0d96e4",
   "metadata": {},
   "outputs": [
    {
     "name": "stdout",
     "output_type": "stream",
     "text": [
      "0.9461610317230225\n"
     ]
    }
   ],
   "source": [
    "output=tchain.Output[:, 0:m ]\n",
    "mat = np.matrix(output)       ### hago una matriz de Txm"
   ]
  },
  {
   "cell_type": "code",
   "execution_count": 44,
   "id": "be6fea30-a915-4ac4-a096-85f3aa83a213",
   "metadata": {},
   "outputs": [],
   "source": [
    "### Ejemplo de como guardar las cadenas\n",
    "##np.savetxt('Cox1_Cadenas_ruido.txt',mat,fmt =' %.15e', delimiter=' ')"
   ]
  },
  {
   "cell_type": "code",
   "execution_count": null,
   "id": "9de2c306-6c10-4757-a67e-656e7c06f03a",
   "metadata": {},
   "outputs": [],
   "source": []
  }
 ],
 "metadata": {
  "kernelspec": {
   "display_name": "Python 3",
   "language": "python",
   "name": "python3"
  },
  "language_info": {
   "codemirror_mode": {
    "name": "ipython",
    "version": 3
   },
   "file_extension": ".py",
   "mimetype": "text/x-python",
   "name": "python",
   "nbconvert_exporter": "python",
   "pygments_lexer": "ipython3",
   "version": "3.8.11"
  }
 },
 "nbformat": 4,
 "nbformat_minor": 5
}
